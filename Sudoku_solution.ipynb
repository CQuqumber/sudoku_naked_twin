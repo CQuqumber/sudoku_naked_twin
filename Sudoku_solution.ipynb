{
 "cells": [
  {
   "cell_type": "markdown",
   "metadata": {},
   "source": [
    "## Define Helper Function"
   ]
  },
  {
   "cell_type": "code",
   "execution_count": 1,
   "metadata": {
    "collapsed": true
   },
   "outputs": [],
   "source": [
    "assignments = []\n",
    "rows = 'ABCDEFGHI'\n",
    "cols = '123456789'\n",
    "\n",
    "def cross(A, B):\n",
    "    \"Cross product of elements in A and elements in B.\"\n",
    "    return [a+b for a in A for b in B]\n",
    "\n",
    "boxes = cross(rows, cols)\n",
    "\n",
    "row_units = [cross(r, cols) for r in rows]\n",
    "column_units = [cross(rows, c) for c in cols]\n",
    "square_units = [cross(rs, cs) for rs in ('ABC','DEF','GHI') for cs in ('123','456','789')]\n",
    "\n",
    "diagonal_units = [[r+c for r,c in zip(rows,cols)], [r+c for r,c in zip(rows,cols[::-1])]]\n"
   ]
  },
  {
   "cell_type": "code",
   "execution_count": 2,
   "metadata": {
    "collapsed": true
   },
   "outputs": [],
   "source": [
    "diagonal = True\n",
    "if diagonal:\n",
    "    unitlist = row_units + column_units + square_units + diagonal_units\n",
    "else:\n",
    "    unitlist = row_units + column_units + square_units\n",
    "\n",
    "units = dict((s, [u for u in unitlist if s in u]) for s in boxes)\n",
    "peers = dict((s, set(sum(units[s],[]))-set([s])) for s in boxes)"
   ]
  },
  {
   "cell_type": "markdown",
   "metadata": {},
   "source": [
    "### 使用 assign_value 去更新values字典"
   ]
  },
  {
   "cell_type": "code",
   "execution_count": 2,
   "metadata": {
    "collapsed": true
   },
   "outputs": [],
   "source": [
    "def assign_value(values, box, value):\n",
    "    \"\"\"\n",
    "    Please use this function to update your values dictionary!\n",
    "    Assigns a value to a given box. If it updates the board record it.\n",
    "    \"\"\"\n",
    "    # Don't waste memory appending actions that don't actually change any values\n",
    "    if values[box] == value:\n",
    "        return values\n",
    "\n",
    "    values[box] = value\n",
    "    if len(value) == 1:\n",
    "        assignments.append(values.copy())\n",
    "    return values"
   ]
  },
  {
   "cell_type": "code",
   "execution_count": null,
   "metadata": {
    "collapsed": true
   },
   "outputs": [],
   "source": [
    "# Find all instances of naked twins\n",
    "\n",
    "    # loop over units checking if there is are any naked twins\n",
    "\n",
    "        # get all boxes with a length of two\n",
    "\n",
    "\n",
    "        # now get all the naked pair twins ie exists twice in pairs\n",
    "\n",
    "\n",
    "        # iterate through the naked_twins removing the values from the non naked twin boxes\n",
    "\n",
    "\n",
    "            # loop over the boxes in the unit and remove the pair from them\n",
    "            # we could use peers as instead but would still need the check to\n",
    "            # ensure we aren't impacting the other naked twin\n",
    "\n",
    "                # test to ensure we don't eliminate the values from either naked-twin\n",
    "\n",
    "                    # Eliminate the naked twins as possibilities for their peers\n",
    "                    # the sorted is required for passing the test assertions as the box values\n",
    "                    # are expected to be in numerical order."
   ]
  },
  {
   "cell_type": "code",
   "execution_count": 3,
   "metadata": {
    "collapsed": true
   },
   "outputs": [],
   "source": [
    "def naked_twins(values):\n",
    "    \"\"\"Eliminate values using the naked twins strategy.\n",
    "    Args:\n",
    "        values(dict): a dictionary of the form {'box_name': '123456789', ...}\n",
    "    Returns:\n",
    "        the values dictionary with the naked twins eliminated from peers.\n",
    "    \"\"\"\n",
    "    # Find all instances of naked twins\n",
    "\n",
    "    ##  Collect the boxes with two possibility solution\n",
    "    twins_candidate = [ box for box in values if len(values[box]) == 2 ]\n",
    "\n",
    "    ##  naked twins pairing\n",
    "    nakedtwins = [[box_1, box_2] for box_1 in twins_candidate for box_2 in peers[box_1] \\\n",
    "                  if values[box_1]==values[box_2]]\n",
    "\n",
    "    for i in range(len(nakedtwins)):\n",
    "        paired_1 = nakedtwins[i][0] #  first box of paired\n",
    "        paired_2 = nakedtwins[i][1] #  second one which has same element with 1st\n",
    "\n",
    "        peers_of_1 = set(peers[paired_1]) # Find the peers\n",
    "        peers_of_2 = set(peers[paired_2]) # Find the peers\n",
    "\n",
    "        ## peer intesection\n",
    "        peers_in_common = [ x for x in peers_of_1 if x in peers_of_2]\n",
    "\n",
    "        for peer_val in peers_in_common:\n",
    "            if len(values[peer_val])>2: # choose the peers which possible elements over 2 \n",
    "                for rm in values[paired_2]:\n",
    "                    values = assign_value(values, peer_val, values[peer_val].replace(rm,''))\n",
    "    return values\n"
   ]
  },
  {
   "cell_type": "code",
   "execution_count": 4,
   "metadata": {
    "collapsed": true
   },
   "outputs": [],
   "source": [
    "def display(values):\n",
    "    \"\"\"\n",
    "    Display the values as a 2-D grid.\n",
    "    Input: The sudoku in dictionary form\n",
    "    Output: None\n",
    "    \"\"\"\n",
    "    width = 1+max(len(values[s]) for s in boxes)\n",
    "    line = '+'.join(['-'*(width*3)]*3)\n",
    "    for r in rows:\n",
    "        print(''.join(values[r+c].center(width)+('|' if c in '36' else '')\n",
    "                      for c in cols))\n",
    "        if r in 'CF': print(line)\n",
    "    return"
   ]
  },
  {
   "cell_type": "code",
   "execution_count": 5,
   "metadata": {
    "collapsed": true
   },
   "outputs": [],
   "source": [
    "def grid_values(grid):\n",
    "    \"\"\"\n",
    "    Convert grid into a dict of {square: char} with '123456789' for empties.\n",
    "    Args:\n",
    "        grid(string) - A grid in string form.\n",
    "    Returns:\n",
    "        A grid in dictionary form\n",
    "            Keys: The boxes, e.g., 'A1'\n",
    "            Values: The value in each box, e.g., '8'. If the box has no value, then the value will be '123456789'.\n",
    "    \"\"\"\n",
    "    chars = []\n",
    "    digits = '123456789'\n",
    "    for c in grid:\n",
    "        if c in digits:\n",
    "            chars.append(c)\n",
    "        if c == '.':\n",
    "            chars.append(digits)\n",
    "    assert len(chars) == 81\n",
    "    return dict(zip(boxes, chars))"
   ]
  },
  {
   "cell_type": "code",
   "execution_count": 6,
   "metadata": {
    "collapsed": true
   },
   "outputs": [],
   "source": [
    "def eliminate(values):\n",
    "    solved = [ x for x in boxes if len(values[x])==1]\n",
    "    for unit in solved:\n",
    "        digit = values[unit]\n",
    "        for i in peers[unit]:\n",
    "            \n",
    "            values = assign_value(values, i, values[i].replace(digit, ''))\n",
    "            ## values[i] = values[i].replace(digit,'')\n",
    "    return values"
   ]
  },
  {
   "cell_type": "code",
   "execution_count": 7,
   "metadata": {
    "collapsed": true
   },
   "outputs": [],
   "source": [
    "def only_choice(values):\n",
    "    for unit in unitlist:\n",
    "        for digit in '123456789':\n",
    "            ans = [ x for x in unit if digit in values[x]]\n",
    "            if len(ans) == 1:\n",
    "                values = assign_value(values, ans[0], digit)\n",
    "                ## values[ans[0]] = digit\n",
    "    return values"
   ]
  },
  {
   "cell_type": "code",
   "execution_count": 8,
   "metadata": {
    "collapsed": true
   },
   "outputs": [],
   "source": [
    "\n",
    "def reduce_puzzle(values):\n",
    "    result = False\n",
    "    while not result:\n",
    "        solved_before = len([x for x in values if len(values[x])==1])\n",
    "        values = eliminate(values)\n",
    "        values = only_choice(values)\n",
    "        values = naked_twins(values)\n",
    "        \n",
    "        solved_after = len([x for x in values if len(values[x])==1])\n",
    "\n",
    "        result = (solved_before==solved_after)\n",
    "        if len([box for box in values if len(values[box]) == 0]):\n",
    "            return False\n",
    "    return values\n"
   ]
  },
  {
   "cell_type": "code",
   "execution_count": 9,
   "metadata": {
    "collapsed": true
   },
   "outputs": [],
   "source": [
    "def search(values):\n",
    "\n",
    "    values = reduce_puzzle(values)\n",
    "\n",
    "    if values is False:\n",
    "        return False\n",
    "    values = reduce_puzzle(values)\n",
    "    if all(len(values[s])==1 for s in boxes):\n",
    "        return values\n",
    "\n",
    "    _, s = min([ (len(values[i]), i) for i in values if len(values[i])>1 ])\n",
    "\n",
    "    for i in values[s]:\n",
    "        new_su = values.copy()\n",
    "        new_su[s] = i\n",
    "\n",
    "        attempt = search(new_su)\n",
    "        if attempt:\n",
    "            return attempt"
   ]
  },
  {
   "cell_type": "code",
   "execution_count": 11,
   "metadata": {},
   "outputs": [
    {
     "name": "stdout",
     "output_type": "stream",
     "text": [
      "3 2 7 |5 4 9 |1 6 8 \n",
      "1 6 5 |2 7 8 |9 3 4 \n",
      "4 9 8 |6 1 3 |5 7 2 \n",
      "------+------+------\n",
      "5 3 4 |7 9 2 |8 1 6 \n",
      "6 1 9 |8 5 4 |3 2 7 \n",
      "8 7 2 |3 6 1 |4 9 5 \n",
      "------+------+------\n",
      "9 5 3 |4 2 7 |6 8 1 \n",
      "7 4 1 |9 8 6 |2 5 3 \n",
      "2 8 6 |1 3 5 |7 4 9 \n",
      "We could not visualize your board due to a pygame issue. Not a problem! It is not a requirement.\n"
     ]
    }
   ],
   "source": [
    "def solve(grid):\n",
    "    \"\"\"\n",
    "    Find the solution to a Sudoku grid.\n",
    "    Args:\n",
    "        grid(string): a string representing a sudoku grid.\n",
    "            Example: '2.............62....1....7...6..8...3...9...7...6..4...4....8....52.............3'\n",
    "    Returns:\n",
    "        The dictionary representation of the final sudoku grid. False if no solution exists.\n",
    "    \"\"\"\n",
    "    values = grid_values(grid)\n",
    "    values = search(values)\n",
    "\n",
    "    return values\n",
    "\n",
    "if __name__ == '__main__':\n",
    "    #diag_sudoku_grid = '6...41....1......3.3...2.8...6.....25..1.7..43.....1...4.6...9.2......5....25...6'\n",
    "    diag_sudoku_grid  = '.275.....1....8....9......25...9281...........7236...59......8....9....3.....574.'\n",
    "\n",
    "    try:\n",
    "        unitlist = row_units + column_units + square_units + diag_1 + diag_2\n",
    "        units = dict((s, [u for u in unitlist if s in u]) for s in boxes)\n",
    "        peers = dict((s, set(sum(units[s],[]))-set([s])) for s in boxes)\n",
    "        display(solve(diag_sudoku_grid))\n",
    "    except:\n",
    "        unitlist = row_units + column_units + square_units #+ diag_1 + diag_2\n",
    "        units = dict((s, [u for u in unitlist if s in u]) for s in boxes)\n",
    "        peers = dict((s, set(sum(units[s],[]))-set([s])) for s in boxes)\n",
    "        display(solve(diag_sudoku_grid))       \n",
    "    try:\n",
    "        from visualize import visualize_assignments\n",
    "        visualize_assignments(assignments)\n",
    "\n",
    "    except SystemExit:\n",
    "        pass\n",
    "    except:\n",
    "        print('We could not visualize your board due to a pygame issue. Not a problem! It is not a requirement.')\n"
   ]
  },
  {
   "cell_type": "code",
   "execution_count": null,
   "metadata": {
    "collapsed": true
   },
   "outputs": [],
   "source": []
  }
 ],
 "metadata": {
  "kernelspec": {
   "display_name": "Python 3",
   "language": "python",
   "name": "python3"
  },
  "language_info": {
   "codemirror_mode": {
    "name": "ipython",
    "version": 3
   },
   "file_extension": ".py",
   "mimetype": "text/x-python",
   "name": "python",
   "nbconvert_exporter": "python",
   "pygments_lexer": "ipython3",
   "version": "3.6.1"
  }
 },
 "nbformat": 4,
 "nbformat_minor": 2
}
